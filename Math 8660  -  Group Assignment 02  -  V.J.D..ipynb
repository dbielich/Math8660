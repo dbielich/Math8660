{
 "cells": [
  {
   "cell_type": "markdown",
   "metadata": {},
   "source": [
    "(1) This proble considers other subspaces of $H^1(\\Omega)$ for which a Poincare Inequality holds."
   ]
  },
  {
   "cell_type": "markdown",
   "metadata": {},
   "source": [
    "> (a) Use a variant of the argument in the lecture notes to prove a Poincare Inequality hold for the spaces $V_1 = \\{u\\in H^1(\\Omega) \\,:\\, Tu = g\\}$ (where $g$ is any specified function in the range of the trace operator) and $V_c = \\{ u\\in H^1 \\,:\\, \\int_{\\Omega} udx = c\\}$ (where $c$ is any real number)."
   ]
  },
  {
   "cell_type": "markdown",
   "metadata": {},
   "source": [
    "## **Solution:**\n",
    "\n",
    "___"
   ]
  },
  {
   "cell_type": "markdown",
   "metadata": {},
   "source": []
  },
  {
   "cell_type": "markdown",
   "metadata": {},
   "source": [
    "> (b) Prove that the pure Neumann problem has a unique solution in any of the spaces $V_c$.\n",
    "\n",
    "> *(The test space does not change. This should be very short.)*"
   ]
  },
  {
   "cell_type": "markdown",
   "metadata": {},
   "source": [
    "## **Solution:**\n",
    "\n",
    "___"
   ]
  },
  {
   "cell_type": "markdown",
   "metadata": {},
   "source": []
  },
  {
   "cell_type": "markdown",
   "metadata": {},
   "source": [
    "> (c) Prove that the modified variational form of the pure Neumann problem shown in Section 7.1 on page 20 of the lecture 01A notes has a unique solution in $V_0$. \n",
    "\n",
    "> *(This should be very short. Having $a_{\\epsilon} \\geq \\epsilon (u,u)_{H^1}$ for every $u\\in H^1(\\Omega)$ is halfway to showing that $a_{\\epsilon}(\\cdot,\\cdot)$ defines an equivalent inner product on $H^1(\\Omega)$. The Reisz representation theorem is beckoning to you.)*"
   ]
  },
  {
   "cell_type": "markdown",
   "metadata": {},
   "source": [
    "## **Solution:**\n",
    "\n",
    "___"
   ]
  },
  {
   "cell_type": "markdown",
   "metadata": {},
   "source": []
  },
  {
   "cell_type": "markdown",
   "metadata": {},
   "source": [
    "> (d) Obtain a compe of **Notebook-XX-Poisson-Neumann-modified.ipynb** from Canvas, which contains some useful outputs printed to screen and plots. Try the different **h_param** values and **g_const** values. Explain your results and include any relevant data/figures to aid in the explanation. What is the relationship between the numerical solution of the modified Neumann problem and the original Neumann problem if **eps** is kept fixed instead of changing with **h_param**?\n",
    "\n",
    "> *Hint: See Example 1 in the 01A notes and Section 7.1* "
   ]
  },
  {
   "cell_type": "markdown",
   "metadata": {},
   "source": [
    "## **Solution:**\n",
    "\n",
    "___"
   ]
  },
  {
   "cell_type": "markdown",
   "metadata": {},
   "source": []
  }
 ],
 "metadata": {
  "kernelspec": {
   "display_name": "Python 3",
   "language": "python",
   "name": "python3"
  },
  "language_info": {
   "codemirror_mode": {
    "name": "ipython",
    "version": 3
   },
   "file_extension": ".py",
   "mimetype": "text/x-python",
   "name": "python",
   "nbconvert_exporter": "python",
   "pygments_lexer": "ipython3",
   "version": "3.6.8"
  }
 },
 "nbformat": 4,
 "nbformat_minor": 2
}
