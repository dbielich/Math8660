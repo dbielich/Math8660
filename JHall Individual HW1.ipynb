{
 "cells": [
  {
   "cell_type": "markdown",
   "metadata": {},
   "source": [
    "# Individual Homework 1\n",
    "\n",
    "## Jordan Hall\n",
    "\n",
    "## Math 8660"
   ]
  },
  {
   "cell_type": "code",
   "execution_count": 1,
   "metadata": {},
   "outputs": [
    {
     "data": {
      "text/html": [
       "<style>.container { width:95% !important; }</style>"
      ],
      "text/plain": [
       "<IPython.core.display.HTML object>"
      ]
     },
     "metadata": {},
     "output_type": "display_data"
    }
   ],
   "source": [
    "# Import needed packages\n",
    "# I took all of the package calls below from class Notebook-2\n",
    "\n",
    "import dolfin as fn\n",
    "import numpy as np\n",
    "\n",
    "from matplotlib import pyplot as plt\n",
    "%matplotlib notebook\n",
    "\n",
    "from IPython.display import HTML, display\n",
    "display(HTML(\"<style>.container { width:95% !important; }</style>\"))\n",
    "\n",
    "from mpl_toolkits.mplot3d import Axes3D\n",
    "from matplotlib import cm\n",
    "from matplotlib.ticker import LinearLocator, FormatStrFormatter"
   ]
  },
  {
   "cell_type": "markdown",
   "metadata": {},
   "source": [
    "## Problem 1\n",
    "\n",
    "1. Let $\\Omega=(0,2)\\subset\\mathbb{R}$ and consider the functions\n",
    "\t$$\n",
    "\t\tu(x) = \\begin{cases}\n",
    "\t\t\t\tx, & 0<x\\leq 1, \\\\\n",
    "\t\t\t\t1, & 1<x<2, \n",
    "\t\t\t\t\\end{cases}\n",
    "\t\t\t\t\\text{ and } \n",
    "\t\tv(x) = \\begin{cases}\n",
    "\t\t\t\t1, & 0<x\\leq 1, \\\\\n",
    "\t\t\t\t0, & 1<x<2.\n",
    "\t\t\t\t\\end{cases}\n",
    "\t$$\n",
    "\t\n",
    "(a.) Prove that $v=u^\\prime$ in the weak sense.\n",
    "\n",
    "(b.) Prove that if $u(x)=2$ instead of $1$ on $1<x<2$ that $u$ does not have a weak derivative. \n"
   ]
  },
  {
   "cell_type": "markdown",
   "metadata": {},
   "source": [
    "### Solution 1. (a.)\n",
    "\n",
    "We begin by showing that $u \\in L^1_{loc}(\\Omega)$. Indeed, any open set $S \\Subset \\Omega$ is contained by a compact set $K_S \\subset \\Omega$, which may be written $K_S=[\\epsilon,2-\\epsilon]$ for some $\\epsilon \\in (0,1)$ where $\\epsilon$ depends on $S$. Since $u$ is strictly positive in $\\Omega$, we have $$\\int_S |u(x)|dx < \\int_{K_S} u(x)dx=\\int_\\epsilon^1 x dx + \\int_1^{2-\\epsilon} dx= \\frac{(3+\\epsilon)(1-\\epsilon)}{2}< \\infty  .$$ Hence, $u \\in L^1(S)$ for any open $S \\Subset \\Omega$; therefore, $u \\in L^1_{loc}(\\Omega)$.\n",
    "\n",
    "\n",
    "Assuming $u \\in L^1_{loc}(\\Omega)$ - which we verified above - we call $g$ the weak derivative of $u \\iff g \\in L^1_{loc}(\\Omega)$ and $T_g = D^\\alpha T_u$. To show the latter condition, we must verify that $T_g(h)=D^\\alpha T_u(h)$ for every $h \\in \\mathcal{D}(\\Omega)$, which is the space of $C_C^\\infty(\\Omega)$ \"test functions\" continuously differentiable at all orders and with compact support on $\\Omega$. \n",
    "\n",
    "Let $h \\in \\mathcal{D}(\\Omega)$. In this setting $\\alpha=1$ and $$(-1)^{|\\alpha|}D^\\alpha T_u (h)= T_u(D^1 h)=\\int_\\Omega u h' dx.$$ We compute the integral above by splitting it into two integrals and performing integration by parts on each:\n",
    "\n",
    "$$-D^\\alpha T_u (h)=\\int_0^1 xh'dx + \\int_1^2 h'dx=\\left(xh|_0^1 - \\int_0^1 h dx\\right) + \\left(h|_1^2\\right)=-\\int_0^1 h dx.$$\n",
    "\n",
    "We note that the values $h(1)$ cancel with each other in the evaluations above; also, $h(2)=0$ since supp$(h) \\Subset \\Omega.$ \n",
    "\n",
    "Now we notice that $$-\\int_0^1 h dx = -\\int_\\Omega vh dx= - T_v(h).$$ Therefore, $$T_v(h) =D^\\alpha T_u(h) \\quad \\forall \\quad h \\in \\mathcal{D}(\\Omega).$$ \n",
    "\n",
    "It remains to show that $v \\in L^1_{loc}(\\Omega).$ We will do so in a similar fashion to how we verified $u \\in L^1_{loc}(\\Omega)$. Given any open set $S \\Subset \\Omega$, we write $K_S$ which we know can be expressed as $ K_S=[\\epsilon, 2-\\epsilon]$ for an $\\epsilon \\in (0,1)$ depending on $S$ only. Then since $v(x)$ is a positive function on $\\Omega$, $$\\int_S |v(x)|dx < \\int_{K_S} v(x)dx=\\int_\\epsilon^1 dx=1-\\epsilon<\\infty.$$ Hence, $v \\in L^1(S)$ for any open $S \\Subset \\Omega$; therefore, $v \\in L^1_{loc}(\\Omega)$.\n",
    "\n",
    "We have shown $v$ the weak derivative of $u$ since $v \\in L^1_{loc}(\\Omega)$ and $T_v = D^1 T_u.$"
   ]
  },
  {
   "cell_type": "markdown",
   "metadata": {},
   "source": [
    "### Solution 1. (b.)\n",
    "\n",
    "We have an identical setup as above, but now $u(x)=2$ for all $x \\in (1,2)$. This will affect the integral which appears when we formulate $D^1T_u(h)$. Let $h \\in \\mathcal{D}(\\Omega)$. We have\n",
    "\n",
    "$$-D^1 T_u(h)=\\int_0^1 xh'dx + \\int_1^2 2h'=\\left( h(1) - \\int_0^1 hdx \\right) -2h(1)=- \\int_0^1 hdx-h(1),$$ where $h(2)$ vanishes since supp$(h)\\Subset \\Omega$. In part (a.), we were able to show that the integral $\\int_0^1 hdx$ could be expressed $\\int_\\Omega hvdx$, which was key in showing $v$ was the weak derivative of $u$ (as it was defined originally). But now we must account for the term $h(1)$. In other words, we must determine if there exists a function $k(x) \\in L^1_{loc}(\\Omega)$ such that $\\int_\\Omega khdx=h(1)$ for all $h \\in \\mathcal{D}(\\Omega)$. If so, we could combine this result with results from part (a.) to say $v+k=u'$ weakly. But we notice that such a $k$ looks like a shifted Dirac delta function, which we know fails to be in $L^1_{loc}(\\Omega)$. \n",
    "\n",
    "By way of contradiction, assume such a $k$ exists. That is, assume $\\exists k \\in L^1_{loc}(\\Omega)$ such that $\\int_\\Omega khdx=h(1)$ for all $h \\in \\mathcal{D}(\\Omega)$. Now define a sequence of functions $\\{h_j(x)\\}_{n \\in \\mathbb{N}}$ such that $0 \\leq h_j(x) \\leq 1$, $h_j(1)=1$, and $h_j(x) \\to 0$ $\\forall x \\neq 1$. Then notice $$1=\\lim_{j \\to \\infty} h_j(1)=\\lim_{j \\to \\infty}\\int_\\Omega kh_jdx=\\int_\\Omega \\lim_{j \\to \\infty} kh_jdx=0.$$ We have clearly arrived at a contradiction. Therefore, such a $k$ does not exist in $L^1_{loc}(\\Omega)$ which implies that $u$ is not weakly differentibale. "
   ]
  },
  {
   "cell_type": "markdown",
   "metadata": {},
   "source": [
    "## Problem 2\n",
    "\n",
    "Let $\\Omega\\subset\\mathbb{R}^n$ and provide a brief discussion about the types of singularities and decay rates allowable in an $L^p(\\Omega)$ space for some context (suppose $\\Omega$ is either bounded or unbounded separately). Hint: In this context, you may find it useful to recall and interpret the theorem that states if $(\\Omega,\\mathcal{F},\\mu)$ is a measure space with $\\mu(\\Omega)$ finite, then $L^p(\\Omega)\\subset L^q(\\Omega)$ whenever $1\\leq q\\leq p$. For instance, what does it mean if $f\\notin L^q(\\Omega)$ for some $q\\geq 1$?\n",
    "\t\n",
    "(a.) Let $\\Omega=(0,1)\\subset\\mathbb{R}$. Show that if $u(x)=\\sin(1/x)$, then $u, u^\\prime \\in L^1_{loc}(\\Omega)$, but $u^\\prime \\notin W^{1,p}(\\Omega)$ for any $p\\geq 1$. \n",
    "\n",
    "(b.) Let $\\Omega= B_1(0)\\subset\\mathbb{R}^n$. Prove that the function $f$ given in Example 3.7 of Hunter is in $W^{1,p}(\\Omega)$ if and only if $a<(n-p)/p$. "
   ]
  },
  {
   "cell_type": "markdown",
   "metadata": {},
   "source": [
    "### Brief Discussion\n",
    "\n",
    "Firstly, if $f \\notin L^q(\\Omega)$ for $q \\geq 1$ then $\\int_\\Omega |f|^qdx$ is not finite. The theorem in the problem statement implies a special embedding of $L^p$ spaces within one another under certain circumanstances. For a brief discussion, we illustrate an embedding guaranteed by the given theorem in a concrete example. First we consider a case with a bounded domain $\\Omega$.\n",
    "\n",
    "Let $\\Omega=(0,1)\\subset \\mathbb{R}$, so $\\mu(\\Omega)=1<\\infty$ meaning $\\Omega$ has finite measure, satisfying the assumptions in the given theorem. Let $f(x)=x^{-1/4}$. Now we recall a Calculus result which we shall need momentarily and in a few of the arguments in (a.) and (b), $$ \\int_0^1 \\frac{1}{x^p}dx<\\infty \\iff p<1.$$ This immediately gives us $\\int_\\Omega |f|^q dx<\\infty$ as long as $q=1, 2,$ or $3$; hence $f \\in L^1(\\Omega)$, $f \\in L^2(\\Omega)$, and $f \\in L^3(\\Omega)$. Notice that $q=4$ is a sort of tipping point; indeed, with $q=4$ we have $\\int_0^1 \\frac{1}{x}dx$ which is classically known to diverge, and is exactly when the power $p$ appearing in $\\frac{1}{x^p}$ exceeds $1$ in our Calculus result we recalled above. In other words, $f \\notin L^4(\\Omega)$; in fact, $f \\notin L^p(\\Omega)$, $p \\geq 4.$ The embedding theorem is clearly obeyed here: because $\\int_\\Omega |f|^3dx<\\infty$, $f\\in L^3(\\Omega)$ and our theorem implies that $L^3(\\Omega)\\subset L^2(\\Omega)$ and $L^3(\\Omega)\\subset L^1(\\Omega)$, so $f\\in L^2(\\Omega)$ and $f\\in L^1(\\Omega)$. The theorem guarantees nothing about $f \\in L^p(\\Omega)$ for powers $p$ exceeding $3$, the power we originally made a claim about. We see that $L^1$ allows for asymptotic behavior, so long as the function decays quickly enough -- in our example, any decay slower than $1/x$ will not suffice. We note that countably infinite discontinuties are also permissible in $f$. Thus, we could assign random values of $f$ to points in a set of measure zero, and still get away with the results we have above.\n",
    "\n",
    "Now we consider the same $f$ as before, but but on the unbounded domain $\\Omega=(0,\\infty)$. Suddenly, we do not even have $f \\in L^1(\\Omega)$, as $\\int_0^\\infty \\frac{1}{x^{1/4}}dx$ does not converge. On this unbounded domain, functions of the form $1/x^p$ will fail to converge for all $p\\in \\mathbb{R}$. In other words, their decay rates for this entire class of functions are far too slow for our new choice of $\\Omega$. A much more acceptable decay rate is exhibited in a classic function, $f(x)=e^{-x}$, the PDF for an exponential random variable with parameter $1$, which we know must have unit area on $\\Omega$ (since it's a PDF!) Again, we have countably infinite discontinuities allowable in this setting."
   ]
  },
  {
   "cell_type": "markdown",
   "metadata": {},
   "source": [
    "### Solution 2. (a.)\n",
    "\n",
    "In a similar fashion to part 1, for any open set $S \\Subset \\Omega$ we have the compact set $K_S$ where $S \\subset K_S$ and $K_S=[\\epsilon,1-\\epsilon]$ for an $\\epsilon \\in (0,1/2)$ depending on $S$.\n",
    "\n",
    "Given any open set $S \\subset \\Omega$, we have $\\int_S|u(x)|dx< \\int_{K_S}|\\sin(1/x)|dx =\\int_\\epsilon^{1-\\epsilon}|\\sin(1/x)|dx \\leq \\int_\\epsilon^{1-\\epsilon}dx=1-2\\epsilon<\\infty \\implies u \\in L^1_{loc}(\\Omega).$ Here we used the fact that $|\\sin(1/x)|\\leq 1$ for all $x\\in [\\epsilon,1-\\epsilon]$. Notice that since $|\\sin(1/x)| \\leq 1$, $x \\in (0,1)$ we have $\\int_\\Omega |u|^p dx \\leq \\int_0^1dx=1<\\infty$, meaning that $u \\in L^p(\\Omega)$, $p \\geq 1$. This is also clear from our embedding theorem: $u$ is essentially bounded, and so $u \\in L^\\infty(\\Omega)$, so $u \\in L^p$ for all integers $1\\leq p < \\infty$.\n",
    "\n",
    "The clear candidate for the weak derivative of $u$ in $\\Omega$ simply equals the pointwise first derivative of $u$, $u'(x)=-\\frac{cos(1/x)}{x^2}$. Given any open set $S \\subset \\Omega$, we have $\\int_S|u'(x)|dx< \\int_{K_S}\\frac{|\\cos(1/x)|}{x^2}dx \\leq \\int_\\epsilon^{1-\\epsilon}\\frac{1}{x^2}dx =-x^{-1}|_{\\epsilon}^{1-\\epsilon}=\\frac{1-2\\epsilon}{\\epsilon(1-\\epsilon)}<\\infty \\implies u' \\in L^1_{loc}(\\Omega).$\n",
    "\n",
    "However, $u'$ fails to be an $L^p$ function on $\\Omega$ for all $p \\geq 1$. Note that since the measure of $\\Omega$ is finite, we may rely on the embedding discussed above to conclude that if we show $u^\\prime \\not \\in L^1(\\Omega)$, then $u^\\prime \\not \\in L^p(\\Omega),$ $p \\geq 1.$ For the sake of contradiction, let $u^\\prime \\in L^1(\\Omega).$ Then the Fundamental Theorem of Calculus implies $$\\lim_{a \\to 0} \\int_a^1 |u^\\prime|dx= \\lim_{a \\to 0} \\int_a^1 u^\\prime dx=\\lim_{a \\to 0} \\left(u(1) - u(a) \\right).$$ Noting that $\\lim_{a \\to 0} u(a)$ does not exist, we arrive at a contradiction: since we are not able to show that $\\int_\\Omega |u'|dx< \\infty,$ $u' \\not \\in L^1(\\Omega)$, and as argued above, this means that $u' \\not \\in L^p(\\Omega),$ $p \\geq 1.$\n",
    "\n",
    "\n",
    "We conclude that $u, u' \\in L^1_{loc}(\\Omega)$ but $u \\notin W^{1,p}(\\Omega)$ because although $u$ is an $L^p$ function over $\\Omega$ for all $p \\geq 1$, $u'$ fails to be in $L^p(\\Omega)$ for all $p \\geq 1.$"
   ]
  },
  {
   "cell_type": "markdown",
   "metadata": {},
   "source": [
    "### Solution 2. (b.)\n",
    "\n",
    "As in Hunter Example 3.7, let $f: \\mathbb{R}^n \\to \\mathbb{R},$ $$f(x)=\\frac{1}{|x|^a}, \\quad a \\in \\mathbb{R},$$ where $|x|$ denotes the standard Euculidean norm in $\\mathbb{R}^n$. \n",
    "\n",
    "We begin by obtaining the conditions under which $f \\in L^p(\\Omega), \\Omega= B_1(0)\\subset \\mathbb{R}^n$. Consider $\\int_{B_1(0)}|f|^pdx$. We convert to hyperspherical coordinates in $\\mathbb{R}^n$, where we may conveniently rewrite $f$ as $f(r; \\phi_1, \\ldots, \\phi_{n-1})=r^{-a}$, where we are using the fact that $r=|x|$. We note our function is contant in the $n-1$ angles $\\phi_\\cdot$ which is clear since the level sets of $f$ are hyperspheres in $\\mathbb{R}^n.$ We have $$\\int_{B_1(0)} |f|^p dx= \\int_{\\phi_{n-1}=0}^{2\\pi} \\int_{\\phi_{n-2}=0}^\\pi \\cdots \\int_{\\phi_1=0}^\\pi \\int_{r=0}^1 |r^{-a}|^pr^{n-1}\\sin^{n-2}(\\phi_1)\\sin^{n-3}(\\phi_2)\\cdots \\sin(\\phi_{n-2})drd\\phi_1 \\cdots d\\phi_{n-1}.$$ We note that since $r>0$, the integrand equals $r^{n-1-ap}$. SInce the integrand is constant in $\\phi_i$, $i=1, \\ldots, n-1$, then the inner-most integral, $\\int_0^1 r^{n-1-ap}dr$ will simply pick up constants as the $n-1$ integrals in the $\\phi_i$ coordinates are evaluated. Writing the product of those $n-1$ constants as $C$, we have $$\\int_{B_1(0)} |f|^p dx=C \\int_0^1 r^{n-1-ap}dr.$$ From our Calculus result that we recalled in the discussion above, we know $$C\\int_0^1 \\frac{1}{r^{ap+1-n}}dr< \\infty \\iff ap+1-n<1 \\iff a<n/p.$$ In other words, $f \\in L^p(\\Omega) \\iff a<n/p.$\n",
    "\n",
    "We finish the problem by obtaing the conditions under which $\\partial_i f \\in L^p(\\Omega)$, where $\\partial_i$ denotes the first order weak partial derivative of $f$ with respect to $x_i$, $i=1,\\ldots,n$. Hunter gives us that $\\partial_i f(x)=\\frac{-ax_i}{|x|^{a+2}}.$ In hyperspeherical coordinates, we have $$\\partial_i f(r; \\phi_1,\\ldots, \\phi_{n})=\\frac{-a \\sin(\\phi_1)\\cdots \\sin(\\phi_{n-1})\\cos(\\phi_i)}{r^{a+1}}.$$ Given any $i=1, \\ldots, n$, we have $$\\int_\\Omega |\\partial_i f|^p dx=\\int_{\\phi_{n-1}=0}^{2\\pi} \\int_{\\phi_{n-2}=0}^\\pi \\cdots \\int_{\\phi_1=0}^\\pi \\int_{r=0}^1 \\left|\\frac{-a \\sin(\\phi_1)\\cdots \\sin(\\phi_{n-1})\\cos(\\phi_i)}{r^{a+1}}\\right|^pr^{n-1}\\sin^{n-2}(\\phi_1)\\sin^{n-3}(\\phi_2)\\cdots \\sin(\\phi_{n-2})drd\\phi_1 \\cdots d\\phi_{n-1}$$\n",
    "\n",
    "$$\\leq \\int_{\\phi_{n-1}=0}^{2\\pi} \\int_{\\phi_{n-2}=0}^\\pi \\cdots \\int_{\\phi_1=0}^\\pi \\int_{r=0}^1 \\left|\\frac{a}{r^{a+1}}\\right|^pr^{n-1}\\sin^{n-2}(\\phi_1)\\sin^{n-3}(\\phi_2)\\cdots \\sin(\\phi_{n-2})drd\\phi_1 \\cdots d\\phi_{n-1}.$$ Where we have used the fact that $\\left|-a \\sin(\\phi_1)\\cdots \\sin(\\phi_{n-1})\\cos(\\phi_i)\\right|\\leq |a|.$ Now, using a similar argument as before, we gather the constants from the $n-1$ $\\phi_i$ integrals along with $|a|$ and form the value $C'$. We have $$\\int_\\Omega |\\partial_i f|^p dx \\leq C' \\int_0^1 \\frac{1}{r^{p(a+1)+1-n}}dr< \\infty \\iff p(a+1)+1-n<1 \\iff a<n/p-1 \\iff a \\leq \\frac{n-p}{p}.$$\n",
    "\n",
    "Hence, $\\partial_i f \\in L^p(\\Omega)$ for all $i=1,\\ldots,n$ provided that $a<(n-p)/p$. Since $(n-p)/p$ is a stricter bound than $n/p$, we have that $f \\in W^{1,p}(\\Omega) \\iff a<(n-p)/p$, since bounding $a$ by $(n-p)/p$ guarantees that $f \\in L^p(\\Omega)$ and $\\partial_i f \\in L^p(\\Omega)$ for all $i=1,\\ldots, n.$ "
   ]
  },
  {
   "cell_type": "markdown",
   "metadata": {},
   "source": [
    "## Problem 3\n",
    "\n",
    "Denote by $\\Omega$ the open square in $\\mathbb{R}^2$ defined by $\\{x\\in\\mathbb{R}^2\\, : \\, |x_1|<1, |x_2|<1\\}$. \n",
    "\t\n",
    "Define \n",
    "\t$$\n",
    "\t\t\tu(x_1,x_2) = \\begin{cases}\n",
    "\t\t\t\t1-x_1, & \\text{if } x_1>0 \\text{ and } |x_2|<x_1 \\\\\n",
    "\t\t\t\t1+x_1, & \\text{if } x_1<0 \\text{ and } |x_2|<-x_1 \\\\\n",
    "\t\t\t\t1-x_2, & \\text{if } x_2>0 \\text{ and } |x_1|<x_2 \\\\\n",
    "\t\t\t\t1+x_2, & \\text{if } x_2<0 \\text{ and } |x_1|<-x_2.\n",
    "\t\t\t\\end{cases}\n",
    "\t$$\n",
    "    \n",
    "(a.) Use FEniCS to plot this function.\n",
    "\n",
    "(b.) For which $1\\leq p\\leq\\infty$ does $u$ belong to $W^{1,p}(\\Omega)$? Justify your answer."
   ]
  },
  {
   "cell_type": "markdown",
   "metadata": {},
   "source": [
    "### Solution 3. (a.)\n",
    "\n",
    "We begin by defining a mesh to interpolate $u$ on its domain and printing a graph of the mesh to verify its correctness."
   ]
  },
  {
   "cell_type": "code",
   "execution_count": 2,
   "metadata": {},
   "outputs": [
    {
     "name": "stdout",
     "output_type": "stream",
     "text": [
      "Calling FFC just-in-time (JIT) compiler, this may take some time.\n"
     ]
    },
    {
     "data": {
      "image/png": "[encoded data removed]",
      "text/plain": [
       "<Figure size 576x288 with 1 Axes>"
      ]
     },
     "metadata": {
      "needs_background": "light"
     },
     "output_type": "display_data"
    }
   ],
   "source": [
    "# Create a mesh to evaluate our function over\n",
    "grid_x = 100\n",
    "grid_y = 100 # Make the mesh finer by increasing these values\n",
    "             # and the resulting plot will look smoother\n",
    "\n",
    "mesh = fn.RectangleMesh(fn.Point(-1, -1), fn.Point(1, 1), grid_x, grid_y, 'left')\n",
    "V1 = fn.FunctionSpace(mesh, \"Lagrange\", 1)\n",
    "\n",
    "fig = plt.figure(figsize=(8,4))\n",
    "fn.plot(mesh)\n",
    "plt.tight_layout()\n",
    "plt.show()"
   ]
  },
  {
   "cell_type": "markdown",
   "metadata": {},
   "source": [
    "Now we define the piecewise function $u$ as a class, which is necessary for making the function into expression that FEniCS \"understands.\" I used a suggestion from my classmate Lauren about defining the function at its boundaries so the resulting plot is continuous."
   ]
  },
  {
   "cell_type": "code",
   "execution_count": 3,
   "metadata": {},
   "outputs": [],
   "source": [
    "# Our pyramid function\n",
    "class U(fn.UserExpression):\n",
    "    \n",
    "    def __init__(self, a, **kwargs):\n",
    "        self.a = a\n",
    "        super().__init__(**kwargs)\n",
    "        \n",
    "    def eval(self, v, x):\n",
    "        v[0] = 0\n",
    "        if (x[0] >= self.a) & (abs(x[1]) <= x[0]):\n",
    "            v[0] = 1 - x[0]\n",
    "        elif (x[0] < self.a) & (abs(x[1]) <= -x[0]):\n",
    "            v[0] = 1 + x[0]\n",
    "        elif (x[1] >= self.a) & (abs(x[0]) <= x[1]):\n",
    "            v[0] = 1 - x[1]\n",
    "        elif (x[1] < self.a) & (abs(x[0]) <= -x[1]):\n",
    "            v[0] = 1 + x[1]\n",
    "        return v\n",
    "    \n",
    "    def value_shape(self):\n",
    "        return ()"
   ]
  },
  {
   "cell_type": "markdown",
   "metadata": {},
   "source": [
    "Now we interpolate our function over the space of degree 1 Lagrange polynomials and plot the result. Since we are interpolating a plane, we don't need interpolating polynomials that exceed degree1. It's a pyramid!"
   ]
  },
  {
   "cell_type": "code",
   "execution_count": 4,
   "metadata": {},
   "outputs": [
    {
     "data": {
      "text/plain": [
       "<matplotlib.colorbar.Colorbar at 0x7f3b55818cf8>"
      ]
     },
     "execution_count": 4,
     "metadata": {},
     "output_type": "execute_result"
    },
    {
     "data": {
      "image/png": "[encoded data removed]",
      "text/plain": [
       "<Figure size 432x288 with 2 Axes>"
      ]
     },
     "metadata": {
      "needs_background": "light"
     },
     "output_type": "display_data"
    }
   ],
   "source": [
    "# Interpolate our function\n",
    "my_interpolant = fn.interpolate( U(a=0, degree=1), V1)\n",
    "\n",
    "# And plot it!\n",
    "fig = plt.figure()\n",
    "my_plot = fn.plot(my_interpolant)\n",
    "my_plot.set_cmap(\"jet\")\n",
    "plt.colorbar(my_plot,fraction=0.046, pad=0.04)"
   ]
  },
  {
   "cell_type": "markdown",
   "metadata": {},
   "source": [
    "### Solution 3. (b.)\n",
    "\n",
    "Let $A:=\\{x\\in \\mathbb{R}^2|x_1>0, |x_2|<x_1\\}$, $B:=\\{x\\in \\mathbb{R}^2|x_1<0, |x_2|<-x_1\\}$, $C:=\\{x\\in \\mathbb{R}^2|x_2>0, |x_1|<x_2\\}$, and $D:=\\{x\\in \\mathbb{R}^2|x_2<0, |x_1|<-x_2\\}$.\n",
    "\n",
    "We notice that given a fixed $x_1=\\hat{x_1}\\in(-1,1)$, $u\\left(\\hat{x_1},x_2\\right)$ is constant for any choice $x_2 \\in (-1,1)$ in $A \\cap B$. Similarly, by fixing $x_2$, we have $u(x)$ constant for any $x_1\\in(-1,1)$ in $C \\cap D.$\n",
    "\n",
    "We note that $u \\in L^1_{loc}(\\Omega)$ since for any open $S \\Subset \\Omega$, we have $u(x)<1$ for all $x \\in S$. Hence $\\int_S |u|^pdx<\\int_S dx<\\infty$ because the integral $\\int_S dx<\\int_\\Omega dx=4$, the volume of a $2\\times 2\\times 1$ cube.  Let $v \\in \\mathcal{D}(\\Omega)$.\n",
    "\n",
    "\n",
    "$$T_u(v')=\\int_\\Omega uv'dx=\\int_{A\\cap B}uv' + \\int_{C\\cap D}uv'.$$ Now let $I:=\\int_{A\\cap B}uv'$ and $J:=\\int_{C\\cap D}uv'.$\n",
    "\n",
    "Now $$I=\\int_{x_2=-|x_1|}^{|x_1|} \\left(\\int_{x_1=-1}^0 (1+x_1)v'dx_1 + \\int_{x_1=0}^1 (1-x_1)v'dx_1 \\right)dx_2.$$\n",
    "\n",
    "Using integration by parts on both integrals above, we obtain $$I=\\int_{x_2=-|x_1|}^{|x_1|} \\left(\\left((1+x_1)v|_{-1}^0 - \\int_{x_1=-1}^0 vdx_1 \\right) + \\left((1-x_1)v|_0^1+\\int_{x_1=0}^1 vdx_1 \\right)\\right)dx_2.$$ Since supp$(v) \\Subset \\Omega$, $v(-1,x_2)=v(1,x_2)=0.$\n",
    "\n",
    "Then $$I=\\int_{x_2=-|x_1|}^{|x_1|} \\left(v(0) - \\int_{x_1=-1}^0 vdx_1  -v(0) +\\int_{x_1=0}^1 vdx_1 \\right)dx_2=-\\int_{x_2=-|x_1|}^{|x_1|}\\int_{x_1=-1}^1h_1(x)vdx_1dx_2,$$ where \n",
    "\n",
    "$$\n",
    "\t\t\th_1(x_1,x_2) = \\begin{cases}\n",
    "\t\t\t\t-1, & \\text{if } x_1>0 \\text{ and } |x_2|<x_1 \\\\\n",
    "\t\t\t\t1, & \\text{if } x_1<0 \\text{ and } |x_2|<-x_1 \\\\\n",
    "\t\t\t\t0, & \\text{otherwise.}\n",
    "\t\t\t\\end{cases}\n",
    "$$\n",
    "\n",
    "Now by symmetry, we have $$J=-\\int_{x_1=-|x_2|}^{|x_2|}\\int_{x_2=-1}^1h_2(x)vdx_2dx_1,$$ where\n",
    "\n",
    "$$\n",
    "\t\t\th_2(x_1,x_2) = \\begin{cases}\n",
    "\t\t\t\t-1, & \\text{if } x_2>0 \\text{ and } |x_1|<x_2 \\\\\n",
    "\t\t\t\t1, & \\text{if } x_2<0 \\text{ and } |x_1|<-x_2 \\\\\n",
    "\t\t\t\t0, & \\text{otherwise.}\n",
    "\t\t\t\\end{cases}\n",
    "$$\n",
    "\n",
    "\n",
    "Therefore, we have $$T_u(v')=I+J=-\\int_\\Omega hvdx=-T_h(v), \\quad h(x):=h_1(x)+h_2(x).$$ This shows that $h$ is the candidate for the first order weak derivative of $u$. Note that $h$ \"looks like\" the pointwise total derivative of $u$. Also, we note that $h \\in L^1_{loc}(\\Omega)$ since for any open $S \\Subset \\Omega$, we have $h(x)<1$ for all $x \\in S$. Hence $\\int_S |h|^pdx<\\int_S dx<\\infty$ as before.\n",
    "\n",
    "Finally, note that $\\max_{x\\in \\Omega}|u(x)|<1$ a.e., so $u \\in L^\\infty(\\Omega)\\implies u \\in L^p (\\Omega), 1 \\leq p < \\infty.$ Similarly, $\\max_{x\\in \\Omega}|h(x)|<1$ a.e., so $h \\in L^\\infty(\\Omega)\\implies h \\in L^p (\\Omega), 1 \\leq p < \\infty.$ Here we are using the fact that $u$ and $h$ are essentially bounded to show they are $L^\\infty$ fucntions; then, we rely on the so-called embedding result of $L^p$ spaces discussed in problem 2.\n",
    "\n",
    "Therefore, $u \\in W^{1,p}(\\Omega)$ for $p \\geq 1$ with $u'=h$ weakly."
   ]
  }
 ],
 "metadata": {
  "kernelspec": {
   "display_name": "Python 3",
   "language": "python",
   "name": "python3"
  },
  "language_info": {
   "codemirror_mode": {
    "name": "ipython",
    "version": 3
   },
   "file_extension": ".py",
   "mimetype": "text/x-python",
   "name": "python",
   "nbconvert_exporter": "python",
   "pygments_lexer": "ipython3",
   "version": "3.6.8"
  }
 },
 "nbformat": 4,
 "nbformat_minor": 2
}
